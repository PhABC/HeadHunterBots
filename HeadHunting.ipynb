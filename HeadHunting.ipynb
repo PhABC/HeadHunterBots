{
 "cells": [
  {
   "cell_type": "code",
   "execution_count": null,
   "metadata": {
    "collapsed": true
   },
   "outputs": [],
   "source": [
    "# IMPORTING\n",
    "import cv2 #Open CV\n",
    "import cv\n",
    "import sys\n",
    "import numpy as np\n",
    "import time\n",
    "from PIL import Image\n",
    "import serial # connection with Arduino\n",
    "import os"
   ]
  },
  {
   "cell_type": "code",
   "execution_count": null,
   "metadata": {
    "collapsed": true
   },
   "outputs": [],
   "source": [
    "#imgPath = sys.argv[1]\n",
    "#cascPath  = sys.argv[2]\n",
    "\n",
    "mainPath = '/home/phc/Dropbox/Hackathons/HeadHunterBots/'\n",
    "imgPath  = mainPath + 'local-filename.jpg'\n",
    "cascPath = mainPath + 'haarcascade_frontalface_default.xml'"
   ]
  },
  {
   "cell_type": "code",
   "execution_count": 203,
   "metadata": {
    "collapsed": false
   },
   "outputs": [],
   "source": [
    "# Create the haar cascade\n",
    "faceCascade = cv2.CascadeClassifier(cascPath)\n",
    "\n",
    "def loadFace():\n",
    "    #Loading Images and Cascade\n",
    "    img = cv2.imread(imgPath)\n",
    "\n",
    "    #cv2.imshow('image',img)\n",
    "    gray = cv2.cvtColor(img, cv2.COLOR_BGR2GRAY)\n",
    "    return gray\n"
   ]
  },
  {
   "cell_type": "code",
   "execution_count": 204,
   "metadata": {
    "collapsed": false
   },
   "outputs": [],
   "source": [
    "# Detecting Faces\n",
    "def detectFace(gray,faceCascade):\n",
    "\n",
    "    faces = faceCascade.detectMultiScale(\n",
    "    gray,\n",
    "    scaleFactor=1.1,\n",
    "    minNeighbors=5,\n",
    "    minSize=(50, 50),\n",
    "    flags = cv2.cv.CV_HAAR_SCALE_IMAGE )\n",
    "    \n",
    "    #print \"Found {0} faces!\".format(len(faces))\n",
    "    \n",
    "    return faces\n"
   ]
  },
  {
   "cell_type": "code",
   "execution_count": 205,
   "metadata": {
    "collapsed": false
   },
   "outputs": [],
   "source": [
    "#Command to Arduino\n",
    "def FIRE():\n",
    "    arduino = serial.Serial('/dev/ttyACM1',9600, timeout=.1 )\n",
    "    arduino.write(b'1') #Will (likely) stop the motors\n"
   ]
  },
  {
   "cell_type": "code",
   "execution_count": null,
   "metadata": {
    "collapsed": false
   },
   "outputs": [],
   "source": [
    "a = 0\n",
    "while a == 0:\n",
    "    time.sleep(0.3)\n",
    "    try:\n",
    "        gray = loadFace()\n",
    "    except:\n",
    "            ''\n",
    "    faces = detectFace(gray,faceCascade)\n",
    "    if len(faces) > 0:\n",
    "        print('FIRE')\n",
    "        FIRE()\n",
    "        time.sleep(5)\n",
    "  \n",
    "        \n",
    "        "
   ]
  },
  {
   "cell_type": "code",
   "execution_count": null,
   "metadata": {
    "collapsed": true
   },
   "outputs": [],
   "source": [
    "im = Image.fromarray(gray)\n",
    "im.show()"
   ]
  },
  {
   "cell_type": "code",
   "execution_count": 182,
   "metadata": {
    "collapsed": false
   },
   "outputs": [],
   "source": [
    "listDev =  os.listdir('/dev')\n",
    "\n",
    "if any(\"tty*\" in s for s in listDev):\n",
    "    print 'lol'"
   ]
  }
 ],
 "metadata": {
  "kernelspec": {
   "display_name": "Python 2",
   "language": "python",
   "name": "python2"
  },
  "language_info": {
   "codemirror_mode": {
    "name": "ipython",
    "version": 2
   },
   "file_extension": ".py",
   "mimetype": "text/x-python",
   "name": "python",
   "nbconvert_exporter": "python",
   "pygments_lexer": "ipython2",
   "version": "2.7.11"
  }
 },
 "nbformat": 4,
 "nbformat_minor": 0
}
